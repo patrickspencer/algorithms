{
  "cells": [
    {
      "attachments": {},
      "cell_type": "markdown",
      "metadata": {
        "colab": {
          "base_uri": "https://localhost:8080/",
          "height": 35
        },
        "id": "Pn496kqhtVAq",
        "outputId": "f8cfdb57-1d7b-4552-9277-f28577c5338f"
      },
      "source": [
        "# Kmeans\n",
        "\n",
        "Algorithm\n",
        "1. assign centroids (start with random)\n",
        "2. Assign points to closest centroid\n",
        "3. find new centroid\n",
        "4. Measure sum of squares\n",
        "\n",
        "based on: https://gist.github.com/ImadDabbura/6e2230b33373991aa3ccdbff6ebb3fd7#file-kmeans-py\n",
        "\"\"\"\n"
      ]
    },
    {
      "cell_type": "code",
      "execution_count": 1,
      "metadata": {},
      "outputs": [
        {
          "name": "stdout",
          "output_type": "stream",
          "text": [
            "Requirement already satisfied: numpy in /Library/Frameworks/Python.framework/Versions/3.9/lib/python3.9/site-packages (1.24.0)\n",
            "\u001b[33mWARNING: You are using pip version 21.1.2; however, version 22.3.1 is available.\n",
            "You should consider upgrading via the '/usr/local/bin/python3.9 -m pip install --upgrade pip' command.\u001b[0m\n",
            "Note: you may need to restart the kernel to use updated packages.\n"
          ]
        }
      ],
      "source": [
        "%pip install -U numpy"
      ]
    },
    {
      "cell_type": "code",
      "execution_count": 2,
      "metadata": {
        "id": "66zb1MwkvVa5"
      },
      "outputs": [],
      "source": [
        "import numpy.typing as npt\n",
        "import numpy as np\n",
        "from sklearn.datasets import make_blobs"
      ]
    },
    {
      "cell_type": "code",
      "execution_count": 3,
      "metadata": {
        "id": "Ewry87W6UHv3"
      },
      "outputs": [],
      "source": [
        "class Kmeans:\n",
        "    def __init__(self, max_iter=100, n_clusters=3, random_state=0, n_init=3):\n",
        "        self.n_clusters = n_clusters\n",
        "        self.random_state = random_state\n",
        "        self.max_iter = max_iter\n",
        "        self.n_init\n",
        "\n",
        "    def _initialize_centroids(self, X):\n",
        "        np.random.RandomState(self.random_state)\n",
        "        random_idx = np.random.permutation(X.shape[0])\n",
        "        return X[random_idx[:self.n_clusters]]\n",
        "\n",
        "    def _calculate_centroids(self, X, labels):\n",
        "        \"\"\"Given points with labels, calculate their centroids\n",
        "\n",
        "        calculate means of all points with a label\n",
        "        this comes after the initialization part that makes initial\n",
        "        labels\n",
        "\n",
        "        Use axis=0 because at the end we want a vector of means from \n",
        "        each dimensions.\n",
        "        \"\"\"\n",
        "\n",
        "        centroids = np.zeros((self.n_clusters, X.shape[1]))\n",
        "        for i in range(self.n_clusters):\n",
        "            centroids[i, :] = np.mean(X[labels == i], axis=0)\n",
        "        return centroids\n",
        "    \n",
        "    def _calculate_distance(self, X, centroids):\n",
        "        \"\"\"keep track distance from point to each cluster\n",
        "        axis 0 is the index of the point\n",
        "        axis 1 is the index of the cluster\n",
        "        value at i j is the distance for point i to cluster j (in indices)\n",
        "        \"\"\"\n",
        "        self.distances = np.zeros((X.shape[0], self.n_clusters))\n",
        "        for i in range(self.n_clusters):\n",
        "            self.distances[:, i] = np.linalg.norm(X-centroids[i, :], axis=1)\n",
        "        return self.distances\n",
        "\n",
        "    def _find_closest_cluster(self, distance):\n",
        "        return np.argmin(distance, axis=1)\n",
        "\n",
        "    def _update_centroids(self, X, centroids) -> None:\n",
        "        dist = self._calculate_distance(X, self.centroids)\n",
        "        labels = self._find_closest_cluster(dist)\n",
        "        centroids = self._calculate_centroids(X, labels)\n",
        "        return centroids\n",
        "\n",
        "    def _check_stopping_criterion(self, old_centroids, new_centroids):\n",
        "        return np.all(old_centroids == new_centroids)\n",
        "\n",
        "    def _compute_sse(self, X, labels):\n",
        "        distance = np.zeros(X.shape[0])\n",
        "        for i in range(self.n_clusters):\n",
        "            distance[labels == i] = np.linalg.norm(X[labels == i] - centroids[i], axis=1)\n",
        "        return np.sum(np.square(distance))\n",
        "\n",
        "    def fit(self, X: npt.ArrayLike):\n",
        "        self.centroids = self._initialize_centroids(X)\n",
        "        for i in range(self.max_iter):\n",
        "            new_centroids = self._one_iteration(X, self.centroids)\n",
        "            if self._check_stopping_criterion(self.centroids, new_centroids):\n",
        "                break\n",
        "            self.centroids = new_centroids\n",
        "        self._error = self._compute_sse(X, self.centroids, self.labels)\n",
        "    \n",
        "    def predict(self):\n",
        "        distance = self._calculate_distance(X, self.centroids)\n",
        "        return self._find_closest_cluster(distance)"
      ]
    },
    {
      "attachments": {},
      "cell_type": "markdown",
      "metadata": {
        "id": "6Nbv6l9Uupvn"
      },
      "source": [
        "# Test components"
      ]
    },
    {
      "cell_type": "code",
      "execution_count": 4,
      "metadata": {
        "id": "zFst-VqEvZI5"
      },
      "outputs": [],
      "source": [
        "from sklearn.datasets import make_blobs\n",
        "X, y = make_blobs(n_samples=20, n_features=2, centers=3)"
      ]
    },
    {
      "cell_type": "code",
      "execution_count": 5,
      "metadata": {
        "id": "pdb6KCHuXRNR"
      },
      "outputs": [],
      "source": [
        "# X = np.array([[1, 2], [1, 4], [1, 0],\n",
        "#               [10, 2], [10, 4], [10, 0]])"
      ]
    },
    {
      "cell_type": "code",
      "execution_count": 6,
      "metadata": {
        "id": "gKKfSyKbwFLs"
      },
      "outputs": [],
      "source": [
        "z = np.zeros((X.shape[0], X.shape[1]))"
      ]
    },
    {
      "cell_type": "code",
      "execution_count": 7,
      "metadata": {
        "colab": {
          "base_uri": "https://localhost:8080/"
        },
        "id": "pkRAIKibXSmL",
        "outputId": "68d8c3e8-14b9-41f8-9442-e0a3a3a518a1"
      },
      "outputs": [
        {
          "data": {
            "text/plain": [
              "array([[-4.02157399, -4.27182757],\n",
              "       [ 9.73784983, -5.44347372],\n",
              "       [ 6.6659809 ,  7.73895312],\n",
              "       [ 5.09475379,  5.90738894],\n",
              "       [ 5.55388887,  4.87645956],\n",
              "       [-2.3975107 , -4.60187683],\n",
              "       [ 6.1893496 , -6.73422976],\n",
              "       [-6.01056483, -3.22049543],\n",
              "       [ 9.90440172, -6.87822665],\n",
              "       [-4.37145615, -3.6390868 ],\n",
              "       [ 6.5021206 ,  6.39319468],\n",
              "       [ 9.34906702, -5.18148381],\n",
              "       [ 8.66005985, -5.32405394],\n",
              "       [ 9.37231893, -3.56609504],\n",
              "       [-2.2017369 , -4.90793962],\n",
              "       [ 6.10489939,  5.44743885],\n",
              "       [-1.75931783, -2.46488367],\n",
              "       [ 5.52186383,  6.07203095],\n",
              "       [-2.75791124, -1.52743823],\n",
              "       [ 9.22521423, -4.57585465]])"
            ]
          },
          "execution_count": 7,
          "metadata": {},
          "output_type": "execute_result"
        }
      ],
      "source": [
        "X"
      ]
    },
    {
      "cell_type": "code",
      "execution_count": 8,
      "metadata": {
        "colab": {
          "base_uri": "https://localhost:8080/"
        },
        "id": "OFV7FiiW7oVL",
        "outputId": "b02406c4-bbe5-496f-83f9-fc27bec68d7d"
      },
      "outputs": [
        {
          "data": {
            "text/plain": [
              "array([0, 1, 2, 2, 2, 0, 1, 0, 1, 0, 2, 1, 1, 1, 0, 2, 0, 2, 0, 1])"
            ]
          },
          "execution_count": 8,
          "metadata": {},
          "output_type": "execute_result"
        }
      ],
      "source": [
        "y"
      ]
    },
    {
      "cell_type": "code",
      "execution_count": 9,
      "metadata": {
        "colab": {
          "base_uri": "https://localhost:8080/"
        },
        "id": "gq6ZSm9wXS5D",
        "outputId": "0aa11547-e412-418a-9aca-57e981a8fce8"
      },
      "outputs": [
        {
          "name": "stdout",
          "output_type": "stream",
          "text": [
            "[ 5.8669897  11.15603538 10.21404409  7.80088202  7.39090924  5.18896212\n",
            "  9.14646921  6.81897943 12.05848976  5.68793298  9.11869017 10.68891148\n",
            " 10.16573593 10.02783107  5.37917435  8.18195494  3.02834125  8.20734671\n",
            "  3.15264047 10.29771933]\n",
            "[29.5052533  23.07948361]\n",
            "37.45961206050517\n"
          ]
        }
      ],
      "source": [
        "# use the index that changes is the 1st axis\n",
        "a = np.linalg.norm(X, axis=1)\n",
        "print(a)\n",
        "\n",
        "# use the index that changes is the 0th axis\n",
        "b = np.linalg.norm(X, axis=0)\n",
        "print(b)\n",
        "\n",
        "# Treats every value in the np.array as a vector\n",
        "c = np.linalg.norm(X) # defaults to axis=-1\n",
        "print(c)"
      ]
    },
    {
      "attachments": {},
      "cell_type": "markdown",
      "metadata": {
        "id": "Lsw5MMlvyeWd"
      },
      "source": [
        "## Compute centroids"
      ]
    },
    {
      "cell_type": "code",
      "execution_count": 10,
      "metadata": {
        "colab": {
          "base_uri": "https://localhost:8080/"
        },
        "id": "RjrZylXGyc9x",
        "outputId": "33ce48c4-1aa9-4796-de29-60dd73abac69"
      },
      "outputs": [
        {
          "name": "stdout",
          "output_type": "stream",
          "text": [
            "[[ 8.66005985 -5.32405394]\n",
            " [ 6.10489939  5.44743885]\n",
            " [-2.3975107  -4.60187683]]\n"
          ]
        }
      ],
      "source": [
        "np.random.RandomState(0)\n",
        "idxs = np.random.permutation(X.shape[0])[:3]\n",
        "n_clusters = 3\n",
        "centroids = X[idxs]\n",
        "print(centroids)"
      ]
    },
    {
      "cell_type": "code",
      "execution_count": 11,
      "metadata": {
        "id": "iZrfQ2Fr1NCl"
      },
      "outputs": [],
      "source": [
        "distances = np.zeros((X.shape[0], n_clusters))\n",
        "for i in range(centroids.shape[0]):\n",
        "    distances[:,i] = np.linalg.norm(X - centroids[i,:], axis=1)"
      ]
    },
    {
      "cell_type": "code",
      "execution_count": 12,
      "metadata": {
        "colab": {
          "base_uri": "https://localhost:8080/"
        },
        "id": "5AyeX3K616Ue",
        "outputId": "59550204-cf2e-4769-f207-2206241b74ff"
      },
      "outputs": [
        {
          "data": {
            "text/plain": [
              "array([[12.72521187, 14.03601093,  1.65726102],\n",
              "       [ 1.08438569, 11.48086693, 12.16450823],\n",
              "       [13.21432951,  2.3592054 , 15.31153042],\n",
              "       [11.78374799,  1.10993164, 12.90653688],\n",
              "       [10.66296271,  0.79349225, 12.37188813],\n",
              "       [11.08112838, 13.16357562,  0.        ],\n",
              "       [ 2.84482073, 12.18196134,  8.84766064],\n",
              "       [14.82066756, 14.8968976 ,  3.86812289],\n",
              "       [ 1.99093935, 12.89799396, 12.51074808],\n",
              "       [13.13999709, 13.86791166,  2.19622979],\n",
              "       [11.91430305,  1.0257869 , 14.14549521],\n",
              "       [ 0.70360296, 11.11299332, 11.76086869],\n",
              "       [ 0.        , 11.07040659, 11.08112838],\n",
              "       [ 1.89676896,  9.58748266, 11.81531774],\n",
              "       [10.86976448, 13.27531807,  0.36332053],\n",
              "       [11.07040659,  0.        , 13.16357562],\n",
              "       [10.80454932, 11.1557501 ,  2.23025333],\n",
              "       [11.82028025,  0.85442715, 13.29092925],\n",
              "       [12.03263707, 11.27822338,  3.09549048],\n",
              "       [ 0.93765754, 10.49775106, 11.62275406]])"
            ]
          },
          "execution_count": 12,
          "metadata": {},
          "output_type": "execute_result"
        }
      ],
      "source": [
        "distances"
      ]
    },
    {
      "cell_type": "code",
      "execution_count": 13,
      "metadata": {
        "id": "xwOOLX1p-DWs"
      },
      "outputs": [],
      "source": [
        "# assign point indices to centroid\n",
        "points_to_centroids = np.argmin(distances, axis=1)\n",
        "new_centroids = np.zeros((centroids.shape[0], centroids.shape[1]))\n",
        "#calcultate new centroids\n",
        "for i in range(n_clusters):\n",
        "    new_centroids[i,:] = np.mean(X[points_to_centroids == i], axis = 0)"
      ]
    },
    {
      "cell_type": "code",
      "execution_count": 14,
      "metadata": {
        "colab": {
          "base_uri": "https://localhost:8080/"
        },
        "id": "jtsjYp-v-evj",
        "outputId": "af4db891-889c-4369-fdaa-0f2aa6e12f8c"
      },
      "outputs": [
        {
          "data": {
            "text/plain": [
              "array([[ 8.66005985, -5.32405394],\n",
              "       [ 6.10489939,  5.44743885],\n",
              "       [-2.3975107 , -4.60187683]])"
            ]
          },
          "execution_count": 14,
          "metadata": {},
          "output_type": "execute_result"
        }
      ],
      "source": [
        "centroids"
      ]
    },
    {
      "cell_type": "code",
      "execution_count": 15,
      "metadata": {
        "colab": {
          "base_uri": "https://localhost:8080/"
        },
        "id": "d0QWWqBQ-Yl9",
        "outputId": "3908fb3a-2502-4264-bcad-003a7cf5491b"
      },
      "outputs": [
        {
          "data": {
            "text/plain": [
              "array([[ 8.9197516 , -5.38620251],\n",
              "       [ 5.90725123,  6.07257768],\n",
              "       [-3.36001023, -3.51907831]])"
            ]
          },
          "execution_count": 15,
          "metadata": {},
          "output_type": "execute_result"
        }
      ],
      "source": [
        "new_centroids"
      ]
    },
    {
      "cell_type": "code",
      "execution_count": 16,
      "metadata": {
        "id": "36-FdL57-Sj9"
      },
      "outputs": [
        {
          "data": {
            "text/plain": [
              "array([2, 0, 1, 1, 1, 2, 0, 2, 0, 2, 1, 0, 0, 0, 2, 1, 2, 1, 2, 0])"
            ]
          },
          "execution_count": 16,
          "metadata": {},
          "output_type": "execute_result"
        }
      ],
      "source": [
        "points_to_centroids"
      ]
    },
    {
      "cell_type": "code",
      "execution_count": 73,
      "metadata": {
        "colab": {
          "base_uri": "https://localhost:8080/"
        },
        "id": "NyGeo0Br9ted",
        "outputId": "7f3c12f3-13d0-438a-dcab-a55c7b5c5de3"
      },
      "outputs": [
        {
          "data": {
            "text/plain": [
              "array([[ 3.79074203,  8.15207942],\n",
              "       [ 3.83502883,  9.00940876],\n",
              "       [ 8.52225541,  2.07436062],\n",
              "       [ 8.26827564,  2.47078827],\n",
              "       [ 3.81603864, 11.07256391],\n",
              "       [ 6.49861228,  9.98923315],\n",
              "       [ 3.58542397,  9.19161513],\n",
              "       [ 6.08596313, 10.04060336],\n",
              "       [ 3.89785137,  9.18125094]])"
            ]
          },
          "execution_count": 73,
          "metadata": {},
          "output_type": "execute_result"
        }
      ],
      "source": [
        "X[points_to_centroids == 0]"
      ]
    },
    {
      "cell_type": "code",
      "execution_count": 17,
      "metadata": {
        "id": "PAxB34a60r_b"
      },
      "outputs": [],
      "source": [
        "n_clusters = 3"
      ]
    },
    {
      "cell_type": "code",
      "execution_count": 18,
      "metadata": {
        "id": "3p3LYn2V0oAt"
      },
      "outputs": [],
      "source": [
        "d = np.zeros((X.shape[0], n_clusters))"
      ]
    },
    {
      "cell_type": "code",
      "execution_count": 19,
      "metadata": {
        "id": "ms5XIsBb0vCX"
      },
      "outputs": [],
      "source": [
        "centroids = np.zeros((X.shape[0]))"
      ]
    },
    {
      "cell_type": "code",
      "execution_count": 20,
      "metadata": {
        "colab": {
          "base_uri": "https://localhost:8080/"
        },
        "id": "AOtTvbltzj6A",
        "outputId": "2fd1e935-8e8b-4e53-daec-03ad797174eb"
      },
      "outputs": [
        {
          "data": {
            "text/plain": [
              "array([[-4.02157399, -4.27182757],\n",
              "       [ 9.73784983, -5.44347372],\n",
              "       [ 6.6659809 ,  7.73895312],\n",
              "       [ 5.09475379,  5.90738894],\n",
              "       [ 5.55388887,  4.87645956],\n",
              "       [-2.3975107 , -4.60187683],\n",
              "       [ 6.1893496 , -6.73422976],\n",
              "       [-6.01056483, -3.22049543],\n",
              "       [ 9.90440172, -6.87822665],\n",
              "       [-4.37145615, -3.6390868 ],\n",
              "       [ 6.5021206 ,  6.39319468],\n",
              "       [ 9.34906702, -5.18148381],\n",
              "       [ 8.66005985, -5.32405394],\n",
              "       [ 9.37231893, -3.56609504],\n",
              "       [-2.2017369 , -4.90793962],\n",
              "       [ 6.10489939,  5.44743885],\n",
              "       [-1.75931783, -2.46488367],\n",
              "       [ 5.52186383,  6.07203095],\n",
              "       [-2.75791124, -1.52743823],\n",
              "       [ 9.22521423, -4.57585465]])"
            ]
          },
          "execution_count": 20,
          "metadata": {},
          "output_type": "execute_result"
        }
      ],
      "source": [
        "X"
      ]
    },
    {
      "cell_type": "code",
      "execution_count": 21,
      "metadata": {
        "colab": {
          "base_uri": "https://localhost:8080/"
        },
        "id": "o-2_isp-ykLY",
        "outputId": "c52e8bd6-47a7-4d08-8d2c-c628335b8b91"
      },
      "outputs": [
        {
          "data": {
            "text/plain": [
              "array([[-4.02157399, -5.27182757],\n",
              "       [ 9.73784983, -6.44347372],\n",
              "       [ 6.6659809 ,  6.73895312],\n",
              "       [ 5.09475379,  4.90738894],\n",
              "       [ 5.55388887,  3.87645956],\n",
              "       [-2.3975107 , -5.60187683],\n",
              "       [ 6.1893496 , -7.73422976],\n",
              "       [-6.01056483, -4.22049543],\n",
              "       [ 9.90440172, -7.87822665],\n",
              "       [-4.37145615, -4.6390868 ],\n",
              "       [ 6.5021206 ,  5.39319468],\n",
              "       [ 9.34906702, -6.18148381],\n",
              "       [ 8.66005985, -6.32405394],\n",
              "       [ 9.37231893, -4.56609504],\n",
              "       [-2.2017369 , -5.90793962],\n",
              "       [ 6.10489939,  4.44743885],\n",
              "       [-1.75931783, -3.46488367],\n",
              "       [ 5.52186383,  5.07203095],\n",
              "       [-2.75791124, -2.52743823],\n",
              "       [ 9.22521423, -5.57585465]])"
            ]
          },
          "execution_count": 21,
          "metadata": {},
          "output_type": "execute_result"
        }
      ],
      "source": [
        "X - np.array([0, 1])"
      ]
    },
    {
      "cell_type": "markdown",
      "metadata": {
        "id": "WA1PDaJZyiTn"
      },
      "source": []
    },
    {
      "cell_type": "code",
      "execution_count": 22,
      "metadata": {
        "colab": {
          "base_uri": "https://localhost:8080/"
        },
        "id": "FCULmK0jwanI",
        "outputId": "c428ca6e-8dd3-4d1a-abb6-51a725d1e8d3"
      },
      "outputs": [
        {
          "data": {
            "text/plain": [
              "array([29.5052533 , 23.07948361])"
            ]
          },
          "execution_count": 22,
          "metadata": {},
          "output_type": "execute_result"
        }
      ],
      "source": [
        "np.linalg.norm(X, axis=0)"
      ]
    },
    {
      "cell_type": "code",
      "execution_count": 23,
      "metadata": {
        "colab": {
          "base_uri": "https://localhost:8080/"
        },
        "id": "Y6hPk9PXweDv",
        "outputId": "82c06181-a2d9-4e6d-f96d-ccc9a070165c"
      },
      "outputs": [
        {
          "data": {
            "text/plain": [
              "array([ 5.8669897 , 11.15603538, 10.21404409,  7.80088202,  7.39090924,\n",
              "        5.18896212,  9.14646921,  6.81897943, 12.05848976,  5.68793298,\n",
              "        9.11869017, 10.68891148, 10.16573593, 10.02783107,  5.37917435,\n",
              "        8.18195494,  3.02834125,  8.20734671,  3.15264047, 10.29771933])"
            ]
          },
          "execution_count": 23,
          "metadata": {},
          "output_type": "execute_result"
        }
      ],
      "source": [
        "np.linalg.norm(X, axis=-1)"
      ]
    },
    {
      "cell_type": "code",
      "execution_count": 24,
      "metadata": {
        "colab": {
          "base_uri": "https://localhost:8080/"
        },
        "id": "4YvpAelswUMs",
        "outputId": "45228585-6265-4b4b-c813-a4af6ec30fb5"
      },
      "outputs": [
        {
          "data": {
            "text/plain": [
              "2.23606797749979"
            ]
          },
          "execution_count": 24,
          "metadata": {},
          "output_type": "execute_result"
        }
      ],
      "source": [
        "np.linalg.norm([1, 2])"
      ]
    },
    {
      "cell_type": "code",
      "execution_count": 25,
      "metadata": {
        "colab": {
          "base_uri": "https://localhost:8080/"
        },
        "id": "z2ZcOA-AXtYf",
        "outputId": "b63ffbdd-1461-42e7-a9d6-a2e86327199d"
      },
      "outputs": [
        {
          "data": {
            "text/plain": [
              "array([[ 9.22521423, -4.57585465],\n",
              "       [ 6.6659809 ,  7.73895312],\n",
              "       [ 9.34906702, -5.18148381]])"
            ]
          },
          "execution_count": 25,
          "metadata": {},
          "output_type": "execute_result"
        }
      ],
      "source": [
        "indices = np.random.permutation(X.shape[0])[:3]\n",
        "X[indices]"
      ]
    },
    {
      "cell_type": "code",
      "execution_count": 26,
      "metadata": {
        "id": "KP7uwVngYE_E"
      },
      "outputs": [],
      "source": [
        "n_clusters = 3\n",
        "centroids = np.zeros([n_clusters, X.shape[1]])"
      ]
    },
    {
      "cell_type": "code",
      "execution_count": 27,
      "metadata": {
        "id": "84XxxHmhMbiF"
      },
      "outputs": [],
      "source": [
        "centroids = np.zeros([n_clusters, X.shape[1]])\n",
        "for i in range(n_clusters):\n",
        "    centroids[i, :] = np.mean(X[y==i,:])"
      ]
    },
    {
      "cell_type": "code",
      "execution_count": 28,
      "metadata": {
        "colab": {
          "base_uri": "https://localhost:8080/"
        },
        "id": "QOcTNYKqa9zZ",
        "outputId": "793cd963-1527-4037-fb33-d5fb812ff599"
      },
      "outputs": [
        {
          "data": {
            "text/plain": [
              "array([[-3.43954427, -3.43954427],\n",
              "       [ 1.76677454,  1.76677454],\n",
              "       [ 5.98991446,  5.98991446]])"
            ]
          },
          "execution_count": 28,
          "metadata": {},
          "output_type": "execute_result"
        }
      ],
      "source": [
        "centroids"
      ]
    },
    {
      "cell_type": "code",
      "execution_count": 29,
      "metadata": {
        "id": "dEimg3Q-a-s3"
      },
      "outputs": [],
      "source": [
        "for k in range(3):\n",
        "    row_norm = np.linalg.norm(X - centroids[k,:], axis = 1)"
      ]
    },
    {
      "cell_type": "code",
      "execution_count": 30,
      "metadata": {
        "colab": {
          "base_uri": "https://localhost:8080/"
        },
        "id": "ik2UWShVMSkJ",
        "outputId": "31ec5667-6e1c-4373-afe0-12ec1fa0b407"
      },
      "outputs": [
        {
          "data": {
            "text/plain": [
              "array([5.98991446, 5.98991446])"
            ]
          },
          "execution_count": 30,
          "metadata": {},
          "output_type": "execute_result"
        }
      ],
      "source": [
        "centroids[k,:]"
      ]
    },
    {
      "cell_type": "code",
      "execution_count": 31,
      "metadata": {
        "colab": {
          "base_uri": "https://localhost:8080/"
        },
        "id": "4aNovsYnMLKF",
        "outputId": "517866c1-aff5-4519-caf4-0472bfb35c80"
      },
      "outputs": [
        {
          "data": {
            "text/plain": [
              "array([[-10.01148844, -10.26174203],\n",
              "       [  3.74793537, -11.43338817],\n",
              "       [  0.67606644,   1.74903867],\n",
              "       [ -0.89516067,  -0.08252551],\n",
              "       [ -0.43602558,  -1.1134549 ],\n",
              "       [ -8.38742515, -10.59179129],\n",
              "       [  0.19943514, -12.72414422],\n",
              "       [-12.00047929,  -9.21040989],\n",
              "       [  3.91448726, -12.86814111],\n",
              "       [-10.3613706 ,  -9.62900125],\n",
              "       [  0.51220614,   0.40328022],\n",
              "       [  3.35915257, -11.17139827],\n",
              "       [  2.6701454 , -11.3139684 ],\n",
              "       [  3.38240447,  -9.5560095 ],\n",
              "       [ -8.19165136, -10.89785408],\n",
              "       [  0.11498494,  -0.54247561],\n",
              "       [ -7.74923229,  -8.45479812],\n",
              "       [ -0.46805063,   0.08211649],\n",
              "       [ -8.7478257 ,  -7.51735268],\n",
              "       [  3.23529977, -10.56576911]])"
            ]
          },
          "execution_count": 31,
          "metadata": {},
          "output_type": "execute_result"
        }
      ],
      "source": [
        "X - centroids[k,:]"
      ]
    },
    {
      "cell_type": "code",
      "execution_count": 32,
      "metadata": {
        "colab": {
          "base_uri": "https://localhost:8080/"
        },
        "id": "cazWiUXubZLM",
        "outputId": "03b3544f-8c59-438b-9845-afdce0e4c9ca"
      },
      "outputs": [
        {
          "data": {
            "text/plain": [
              "array([[-3.43954427, -3.43954427],\n",
              "       [ 1.76677454,  1.76677454],\n",
              "       [ 5.98991446,  5.98991446]])"
            ]
          },
          "execution_count": 32,
          "metadata": {},
          "output_type": "execute_result"
        }
      ],
      "source": [
        "centroids"
      ]
    },
    {
      "cell_type": "code",
      "execution_count": 33,
      "metadata": {
        "colab": {
          "base_uri": "https://localhost:8080/"
        },
        "id": "95f4EgK7bZXh",
        "outputId": "70d087f8-683e-4dd7-9aad-4cce57966258"
      },
      "outputs": [
        {
          "data": {
            "text/plain": [
              "array([1.76677454, 1.76677454])"
            ]
          },
          "execution_count": 33,
          "metadata": {},
          "output_type": "execute_result"
        }
      ],
      "source": [
        "centroids[1,:]"
      ]
    },
    {
      "cell_type": "code",
      "execution_count": 34,
      "metadata": {
        "colab": {
          "base_uri": "https://localhost:8080/"
        },
        "id": "-JPDqELrb263",
        "outputId": "1a19ddce-e95c-4830-e18c-92d76c35bc95"
      },
      "outputs": [
        {
          "data": {
            "text/plain": [
              "6.344131569286608e-17"
            ]
          },
          "execution_count": 34,
          "metadata": {},
          "output_type": "execute_result"
        }
      ],
      "source": [
        "np.mean(X[y == 1] - centroids[1])"
      ]
    },
    {
      "cell_type": "code",
      "execution_count": 35,
      "metadata": {
        "id": "aDNvAdrReD7I"
      },
      "outputs": [],
      "source": [
        "centroids = np.zeros([n_clusters, X.shape[1]])\n",
        "for i in range(n_clusters):\n",
        "    centroids[i, :] = np.mean(X[y==i,:])"
      ]
    },
    {
      "cell_type": "code",
      "execution_count": 36,
      "metadata": {
        "colab": {
          "base_uri": "https://localhost:8080/"
        },
        "id": "hgo6tH07e69B",
        "outputId": "d65d24f2-f45f-4b0a-cc41-07dab85bd658"
      },
      "outputs": [
        {
          "data": {
            "text/plain": [
              "array([[0., 0., 0.],\n",
              "       [0., 0., 0.],\n",
              "       [0., 0., 0.],\n",
              "       [0., 0., 0.],\n",
              "       [0., 0., 0.],\n",
              "       [0., 0., 0.],\n",
              "       [0., 0., 0.],\n",
              "       [0., 0., 0.],\n",
              "       [0., 0., 0.],\n",
              "       [0., 0., 0.],\n",
              "       [0., 0., 0.],\n",
              "       [0., 0., 0.],\n",
              "       [0., 0., 0.],\n",
              "       [0., 0., 0.],\n",
              "       [0., 0., 0.],\n",
              "       [0., 0., 0.],\n",
              "       [0., 0., 0.],\n",
              "       [0., 0., 0.],\n",
              "       [0., 0., 0.],\n",
              "       [0., 0., 0.]])"
            ]
          },
          "execution_count": 36,
          "metadata": {},
          "output_type": "execute_result"
        }
      ],
      "source": [
        "distances = np.zeros([X.shape[0], n_clusters])\n",
        "distances"
      ]
    },
    {
      "cell_type": "code",
      "execution_count": 37,
      "metadata": {
        "colab": {
          "base_uri": "https://localhost:8080/"
        },
        "id": "fc0bsgxQeOiU",
        "outputId": "c1b6a1a6-911b-4b08-f2e2-8446433fcc34"
      },
      "outputs": [
        {
          "name": "stdout",
          "output_type": "stream",
          "text": [
            "[ 1.01560528 13.32889525 15.06918853 12.65699031 12.24899014  1.56104162\n",
            " 10.17696171  2.58033508 13.77989228  0.95303566 13.98282717 12.90670106\n",
            " 12.24548066 12.8124882   1.92050826 13.04127577  1.94245313 13.06816354\n",
            "  2.02996874 12.71563247]\n",
            "[ 8.36478895 10.74828922  7.72458024  5.31226256  4.90024243  7.60927013\n",
            "  9.58260112  9.23904051 11.87253224  8.17931616  6.62021643 10.28442772\n",
            "  9.88924825  9.28890755  7.76536491  5.68916663  5.50819922  5.71278639\n",
            "  5.59684011  9.79067248]\n",
            "[14.33643088 12.03201499  1.87515388  0.89895667  1.19578431 13.51054934\n",
            " 12.72570707 15.12756271 13.45036305 14.14481057  0.65191262 11.66550664\n",
            " 11.62478204 10.13696097 13.6332819   0.55452801 11.46883658  0.47519944\n",
            " 11.53408192 11.0500064 ]\n"
          ]
        }
      ],
      "source": [
        "for i in range(n_clusters):\n",
        "    row_norm = np.linalg.norm(X-centroids[i, :], axis=1)\n",
        "    print(row_norm)\n",
        "    distances[:, i] = np.square(row_norm)"
      ]
    },
    {
      "cell_type": "code",
      "execution_count": 38,
      "metadata": {
        "colab": {
          "base_uri": "https://localhost:8080/"
        },
        "id": "O2mU0Ot-goys",
        "outputId": "8a2b2837-7c88-49f6-be23-77113bc04bb6"
      },
      "outputs": [
        {
          "data": {
            "text/plain": [
              "array([[-10.01148844, -10.26174203],\n",
              "       [  3.74793537, -11.43338817],\n",
              "       [  0.67606644,   1.74903867],\n",
              "       [ -0.89516067,  -0.08252551],\n",
              "       [ -0.43602558,  -1.1134549 ],\n",
              "       [ -8.38742515, -10.59179129],\n",
              "       [  0.19943514, -12.72414422],\n",
              "       [-12.00047929,  -9.21040989],\n",
              "       [  3.91448726, -12.86814111],\n",
              "       [-10.3613706 ,  -9.62900125],\n",
              "       [  0.51220614,   0.40328022],\n",
              "       [  3.35915257, -11.17139827],\n",
              "       [  2.6701454 , -11.3139684 ],\n",
              "       [  3.38240447,  -9.5560095 ],\n",
              "       [ -8.19165136, -10.89785408],\n",
              "       [  0.11498494,  -0.54247561],\n",
              "       [ -7.74923229,  -8.45479812],\n",
              "       [ -0.46805063,   0.08211649],\n",
              "       [ -8.7478257 ,  -7.51735268],\n",
              "       [  3.23529977, -10.56576911]])"
            ]
          },
          "execution_count": 38,
          "metadata": {},
          "output_type": "execute_result"
        }
      ],
      "source": [
        "X-centroids[i, :]"
      ]
    },
    {
      "cell_type": "code",
      "execution_count": 39,
      "metadata": {
        "colab": {
          "base_uri": "https://localhost:8080/"
        },
        "id": "gZzrx1xYePEG",
        "outputId": "25bc40f8-923d-4f98-9192-1091c78d2376"
      },
      "outputs": [
        {
          "data": {
            "text/plain": [
              "array([[1.03145408e+00, 6.99696942e+01, 2.05533250e+02],\n",
              "       [1.77659448e+02, 1.15525721e+02, 1.44769385e+02],\n",
              "       [2.27080443e+02, 5.96691399e+01, 3.51620209e+00],\n",
              "       [1.60199404e+02, 2.82201335e+01, 8.08123087e-01],\n",
              "       [1.50037759e+02, 2.40123758e+01, 1.42990012e+00],\n",
              "       [2.43685095e+00, 5.79009919e+01, 1.82534943e+02],\n",
              "       [1.03570550e+02, 9.18262443e+01, 1.61943620e+02],\n",
              "       [6.65812910e+00, 8.53598695e+01, 2.28843153e+02],\n",
              "       [1.89885431e+02, 1.40957022e+02, 1.80912266e+02],\n",
              "       [9.08276966e-01, 6.69012128e+01, 2.00075666e+02],\n",
              "       [1.95519456e+02, 4.38272655e+01, 4.24990067e-01],\n",
              "       [1.66582932e+02, 1.05769453e+02, 1.36084045e+02],\n",
              "       [1.49951797e+02, 9.77972310e+01, 1.35135557e+02],\n",
              "       [1.64159854e+02, 8.62838035e+01, 1.02757978e+02],\n",
              "       [3.68835199e+00, 6.03008922e+01, 1.85866375e+02],\n",
              "       [1.70074874e+02, 3.23666170e+01, 3.07501318e-01],\n",
              "       [3.77312417e+00, 3.03402586e+01, 1.31534212e+02],\n",
              "       [1.70776898e+02, 3.26359283e+01, 2.25814507e-01],\n",
              "       [4.12077310e+00, 3.13246192e+01, 1.33035046e+02],\n",
              "       [1.61687309e+02, 9.58572677e+01, 1.22102641e+02]])"
            ]
          },
          "execution_count": 39,
          "metadata": {},
          "output_type": "execute_result"
        }
      ],
      "source": [
        "distances"
      ]
    }
  ],
  "metadata": {
    "colab": {
      "authorship_tag": "ABX9TyMntvDJS017kMxAH1GxLMur",
      "provenance": []
    },
    "kernelspec": {
      "display_name": "Python 3",
      "language": "python",
      "name": "python3"
    },
    "language_info": {
      "codemirror_mode": {
        "name": "ipython",
        "version": 3
      },
      "file_extension": ".py",
      "mimetype": "text/x-python",
      "name": "python",
      "nbconvert_exporter": "python",
      "pygments_lexer": "ipython3",
      "version": "3.9.1"
    },
    "vscode": {
      "interpreter": {
        "hash": "397704579725e15f5c7cb49fe5f0341eb7531c82d19f2c29d197e8b64ab5776b"
      }
    }
  },
  "nbformat": 4,
  "nbformat_minor": 0
}
