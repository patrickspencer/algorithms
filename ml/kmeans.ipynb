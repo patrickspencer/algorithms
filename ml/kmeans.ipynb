{
  "nbformat": 4,
  "nbformat_minor": 0,
  "metadata": {
    "colab": {
      "provenance": [],
      "authorship_tag": "ABX9TyMntvDJS017kMxAH1GxLMur"
    },
    "kernelspec": {
      "name": "python3",
      "display_name": "Python 3"
    },
    "language_info": {
      "name": "python"
    }
  },
  "cells": [
    {
      "cell_type": "code",
      "source": [
        "\"\"\"Kmeans\n",
        "1. assign centroids (start with random)\n",
        "2. Assign points to closest centroid\n",
        "3. find new centroid\n",
        "4. Measure sum of squares\n",
        "\n",
        "based on: https://gist.github.com/ImadDabbura/6e2230b33373991aa3ccdbff6ebb3fd7#file-kmeans-py\n",
        "\"\"\"\n"
      ],
      "metadata": {
        "colab": {
          "base_uri": "https://localhost:8080/",
          "height": 35
        },
        "id": "Pn496kqhtVAq",
        "outputId": "f8cfdb57-1d7b-4552-9277-f28577c5338f"
      },
      "execution_count": 9,
      "outputs": [
        {
          "output_type": "execute_result",
          "data": {
            "text/plain": [
              "'Kmeans\\n1. assign centroids (start with random)\\n2. Assign points to closest centroid\\n3. find new centroid\\n4. Measure sum of squares\\n5. \\n'"
            ],
            "application/vnd.google.colaboratory.intrinsic+json": {
              "type": "string"
            }
          },
          "metadata": {},
          "execution_count": 9
        }
      ]
    },
    {
      "cell_type": "code",
      "source": [
        "import numpy.typing as npt\n",
        "import numpy as np\n",
        "from sklearn.datasets import make_blobs"
      ],
      "metadata": {
        "id": "66zb1MwkvVa5"
      },
      "execution_count": 7,
      "outputs": []
    },
    {
      "cell_type": "code",
      "execution_count": 8,
      "metadata": {
        "id": "Ewry87W6UHv3"
      },
      "outputs": [],
      "source": [
        "class Kmeans:\n",
        "    def __init__(self, max_iter=100, n_clusters=3, random_state=0, n_init=3):\n",
        "        self.n_clusters = n_clusters\n",
        "        self.random_state = random_state\n",
        "        self.max_iter = max_iter\n",
        "        self.n_init\n",
        "\n",
        "    def _initialize_centroids(self, X):\n",
        "        np.random.RandomState(self.random_state)\n",
        "        random_idx = np.random.permutation(X.shape[0])\n",
        "        return X[random_idx[:self.n_clusters]]\n",
        "\n",
        "    def _calculate_centroids(self, X, labels):\n",
        "        \"\"\"Given points with labels, calculate their centroids\n",
        "\n",
        "        calculate means of all points with a label\n",
        "        this comes after the initialization part that makes initial\n",
        "        labels\n",
        "\n",
        "        Use axis=0 because at the end we want a vector of means from \n",
        "        each dimensions.\n",
        "        \"\"\"\n",
        "\n",
        "        centroids = np.zeros((self.n_clusters, X.shape[1]))\n",
        "        for i in range(self.n_clusters):\n",
        "            centroids[i, :] = np.mean(X[labels == i], axis=0)\n",
        "        return centroids\n",
        "    \n",
        "    def _calculate_distance(self, X, centroids):\n",
        "        \"\"\"keep track distance from point to each cluster\n",
        "        axis 0 is the index of the point\n",
        "        axis 1 is the index of the cluster\n",
        "        value at i j is the distance for point i to cluster j (in indices)\n",
        "        \"\"\"\n",
        "        self.distances = np.zeros((X.shape[0], self.n_clusters))\n",
        "        for i in range(self.n_clusters):\n",
        "            self.distances[:, i] = np.linalg.norm(X-centroids[i, :], axis=1)\n",
        "        return self.distances\n",
        "\n",
        "    def _find_closest_cluster(self, distance):\n",
        "        return np.argmin(distance, axis=1)\n",
        "\n",
        "    def _update_centroids(self, X, centroids) -> None:\n",
        "        dist = self._calculate_distance(X, self.centroids)\n",
        "        labels = self._find_closest_cluster(dist)\n",
        "        centroids = self._calculate_centroids(X, labels)\n",
        "        return centroids\n",
        "\n",
        "    def _check_stopping_criterion(self, old_centroids, new_centroids):\n",
        "        return np.all(old_centroids == new_centroids)\n",
        "\n",
        "    def _compute_sse(self, X, labels):\n",
        "        distance = np.zeros(X.shape[0])\n",
        "        for i in range(self.n_clusters):\n",
        "            distance[labels == i] = np.linalg.norm(X[labels == i] - centroids[i], axis=1)\n",
        "        return np.sum(np.square(distance))\n",
        "\n",
        "    def fit(self, X: npt.ArrayLike):\n",
        "        self.centroids = self._initialize_centroids(X)\n",
        "        for i in range(self.max_iter):\n",
        "            new_centroids = self._one_iteration(X, self.centroids)\n",
        "            if self._check_stopping_criterion(self.centroids, new_centroids):\n",
        "                break\n",
        "            self.centroids = new_centroids\n",
        "        self._error = self._compute_sse(X, self.centroids, self.labels)\n",
        "    \n",
        "    def predict(self):\n",
        "        distance = self._calculate_distance(X, self.centroids)\n",
        "        return self._find_closest_cluster(distance)"
      ]
    },
    {
      "cell_type": "markdown",
      "source": [],
      "metadata": {
        "id": "6Nbv6l9Uupvn"
      }
    },
    {
      "cell_type": "code",
      "source": [
        "from sklearn.datasets import make_blobs\n",
        "X, y = make_blobs(n_samples=20, n_features=2, centers=3)"
      ],
      "metadata": {
        "id": "zFst-VqEvZI5"
      },
      "execution_count": 62,
      "outputs": []
    },
    {
      "cell_type": "code",
      "source": [
        "# X = np.array([[1, 2], [1, 4], [1, 0],\n",
        "#               [10, 2], [10, 4], [10, 0]])"
      ],
      "metadata": {
        "id": "pdb6KCHuXRNR"
      },
      "execution_count": 63,
      "outputs": []
    },
    {
      "cell_type": "code",
      "source": [
        "z = np.zeros((X.shape[0], X.shape[1]))"
      ],
      "metadata": {
        "id": "gKKfSyKbwFLs"
      },
      "execution_count": 64,
      "outputs": []
    },
    {
      "cell_type": "code",
      "source": [
        "X"
      ],
      "metadata": {
        "id": "pkRAIKibXSmL",
        "colab": {
          "base_uri": "https://localhost:8080/"
        },
        "outputId": "68d8c3e8-14b9-41f8-9442-e0a3a3a518a1"
      },
      "execution_count": 65,
      "outputs": [
        {
          "output_type": "execute_result",
          "data": {
            "text/plain": [
              "array([[ 3.71484359, -4.4255989 ],\n",
              "       [ 3.70237994, -6.39217025],\n",
              "       [ 8.05893211, -0.14708853],\n",
              "       [ 8.0894992 ,  0.49054904],\n",
              "       [ 3.79074203,  8.15207942],\n",
              "       [ 3.83502883,  9.00940876],\n",
              "       [ 8.52225541,  2.07436062],\n",
              "       [ 9.28516481,  0.26519391],\n",
              "       [ 2.10390175, -6.37276099],\n",
              "       [ 8.26827564,  2.47078827],\n",
              "       [ 3.10314681, -7.6509839 ],\n",
              "       [ 8.70491892,  0.71898582],\n",
              "       [ 3.81603864, 11.07256391],\n",
              "       [ 6.49861228,  9.98923315],\n",
              "       [ 3.58542397,  9.19161513],\n",
              "       [ 1.43307457, -7.36466298],\n",
              "       [-0.80906783, -6.43390231],\n",
              "       [ 0.67071901, -8.49046643],\n",
              "       [ 6.08596313, 10.04060336],\n",
              "       [ 3.89785137,  9.18125094]])"
            ]
          },
          "metadata": {},
          "execution_count": 65
        }
      ]
    },
    {
      "cell_type": "code",
      "source": [
        "y"
      ],
      "metadata": {
        "colab": {
          "base_uri": "https://localhost:8080/"
        },
        "id": "OFV7FiiW7oVL",
        "outputId": "b02406c4-bbe5-496f-83f9-fc27bec68d7d"
      },
      "execution_count": 66,
      "outputs": [
        {
          "output_type": "execute_result",
          "data": {
            "text/plain": [
              "array([1, 1, 2, 2, 0, 0, 2, 2, 1, 2, 1, 2, 0, 0, 0, 1, 1, 1, 0, 0])"
            ]
          },
          "metadata": {},
          "execution_count": 66
        }
      ]
    },
    {
      "cell_type": "code",
      "source": [
        "# use the index that changes is the 1st axis\n",
        "a = np.linalg.norm(X, axis=1)\n",
        "print(a)\n",
        "\n",
        "# use the index that changes is the 0th axis\n",
        "b = np.linalg.norm(X, axis=0)\n",
        "print(b)\n",
        "\n",
        "# Treats every value in the np.array as a vector\n",
        "c = np.linalg.norm(X) # defaults to axis=-1\n",
        "print(c)"
      ],
      "metadata": {
        "id": "gq6ZSm9wXS5D",
        "colab": {
          "base_uri": "https://localhost:8080/"
        },
        "outputId": "0aa11547-e412-418a-9aca-57e981a8fce8"
      },
      "execution_count": 67,
      "outputs": [
        {
          "output_type": "stream",
          "name": "stdout",
          "text": [
            "[ 5.77806097  7.38697893  8.0602743   8.10435905  8.99033504  9.79167465\n",
            "  8.771078    9.28895115  6.71107184  8.62955252  8.25633543  8.7345609\n",
            " 11.71169596 11.91707768  9.86615699  7.50279705  6.48457321  8.51691753\n",
            " 11.74106738  9.97439793]\n",
            "[25.08086928 31.27588945]\n",
            "40.09028891000603\n"
          ]
        }
      ]
    },
    {
      "cell_type": "markdown",
      "source": [
        "Compute centroids\n",
        "\n",
        "make them random"
      ],
      "metadata": {
        "id": "Lsw5MMlvyeWd"
      }
    },
    {
      "cell_type": "code",
      "source": [
        "np.random.RandomState(0)\n",
        "idxs = np.random.permutation(X.shape[0])[:3]\n",
        "n_clusters = 3\n",
        "centroids = X[idxs]\n",
        "print(centroids)"
      ],
      "metadata": {
        "colab": {
          "base_uri": "https://localhost:8080/"
        },
        "id": "RjrZylXGyc9x",
        "outputId": "33ce48c4-1aa9-4796-de29-60dd73abac69"
      },
      "execution_count": 82,
      "outputs": [
        {
          "output_type": "stream",
          "name": "stdout",
          "text": [
            "[[ 8.52225541  2.07436062]\n",
            " [ 3.58542397  9.19161513]\n",
            " [ 1.43307457 -7.36466298]]\n"
          ]
        }
      ]
    },
    {
      "cell_type": "code",
      "source": [
        "distances = np.zeros((X.shape[0], n_clusters))\n",
        "for i in range(centroids.shape[0]):\n",
        "    distances[:,i] = np.linalg.norm(X - centroids[i,:], axis=1)"
      ],
      "metadata": {
        "id": "iZrfQ2Fr1NCl"
      },
      "execution_count": 83,
      "outputs": []
    },
    {
      "cell_type": "code",
      "source": [
        "distances"
      ],
      "metadata": {
        "colab": {
          "base_uri": "https://localhost:8080/"
        },
        "id": "5AyeX3K616Ue",
        "outputId": "59550204-cf2e-4769-f207-2206241b74ff"
      },
      "execution_count": 84,
      "outputs": [
        {
          "output_type": "execute_result",
          "data": {
            "text/plain": [
              "array([[ 8.08459536, 13.61782903,  3.72082888],\n",
              "       [ 9.742348  , 15.58422425,  2.4689044 ],\n",
              "       [ 2.26925203, 10.35488585,  9.79772265],\n",
              "       [ 1.64186998,  9.7977163 , 10.29622964],\n",
              "       [ 7.70232983,  1.05961785, 15.69483644],\n",
              "       [ 8.370483  ,  0.30903357, 16.54930844],\n",
              "       [ 0.        ,  8.66184832, 11.80473005],\n",
              "       [ 1.96344466, 10.59094148, 10.94851759],\n",
              "       [10.60891734, 15.63472776,  1.19744673],\n",
              "       [ 0.47080846,  8.19137433, 11.97731502],\n",
              "       [11.1332414 , 16.84950247,  1.69443824],\n",
              "       [ 1.36762817,  9.89922603, 10.87313654],\n",
              "       [10.1546117 ,  1.89503336, 18.59058507],\n",
              "       [ 8.16947603,  3.02040736, 18.07809125],\n",
              "       [ 8.66184832,  0.        , 16.69559681],\n",
              "       [11.80473005, 16.69559681,  0.        ],\n",
              "       [12.62791081, 16.23170827,  2.42765689],\n",
              "       [13.1629098 , 17.92070069,  1.35963944],\n",
              "       [ 8.33045878,  2.6407342 , 18.0164555 ],\n",
              "       [ 8.47897416,  0.31259925, 16.72849043]])"
            ]
          },
          "metadata": {},
          "execution_count": 84
        }
      ]
    },
    {
      "cell_type": "code",
      "source": [
        "# assign point indices to centroid\n",
        "points_to_centroids = np.argmin(distances, axis=1)\n",
        "new_centroids = np.zeros((centroids.shape[0], centroids.shape[1]))\n",
        "#calcultate new centroids\n",
        "for i in range(n_clusters):\n",
        "    new_centroids[i,:] = np.mean(X[points_to_centroids == i], axis = 0)"
      ],
      "metadata": {
        "id": "xwOOLX1p-DWs"
      },
      "execution_count": 88,
      "outputs": []
    },
    {
      "cell_type": "code",
      "source": [
        "centroids"
      ],
      "metadata": {
        "colab": {
          "base_uri": "https://localhost:8080/"
        },
        "id": "jtsjYp-v-evj",
        "outputId": "af4db891-889c-4369-fdaa-0f2aa6e12f8c"
      },
      "execution_count": 89,
      "outputs": [
        {
          "output_type": "execute_result",
          "data": {
            "text/plain": [
              "array([[ 8.52225541,  2.07436062],\n",
              "       [ 3.58542397,  9.19161513],\n",
              "       [ 1.43307457, -7.36466298]])"
            ]
          },
          "metadata": {},
          "execution_count": 89
        }
      ]
    },
    {
      "cell_type": "code",
      "source": [
        "new_centroids"
      ],
      "metadata": {
        "colab": {
          "base_uri": "https://localhost:8080/"
        },
        "id": "d0QWWqBQ-Yl9",
        "outputId": "3908fb3a-2502-4264-bcad-003a7cf5491b"
      },
      "execution_count": 90,
      "outputs": [
        {
          "output_type": "execute_result",
          "data": {
            "text/plain": [
              "array([[ 8.48817435,  0.97879819],\n",
              "       [ 4.50138004,  9.51953638],\n",
              "       [ 1.98842826, -6.73293511]])"
            ]
          },
          "metadata": {},
          "execution_count": 90
        }
      ]
    },
    {
      "cell_type": "code",
      "source": [
        "points_to_centroids"
      ],
      "metadata": {
        "id": "36-FdL57-Sj9"
      },
      "execution_count": null,
      "outputs": []
    },
    {
      "cell_type": "code",
      "source": [
        "X[points_to_centroids == 0]"
      ],
      "metadata": {
        "colab": {
          "base_uri": "https://localhost:8080/"
        },
        "id": "NyGeo0Br9ted",
        "outputId": "7f3c12f3-13d0-438a-dcab-a55c7b5c5de3"
      },
      "execution_count": 73,
      "outputs": [
        {
          "output_type": "execute_result",
          "data": {
            "text/plain": [
              "array([[ 3.79074203,  8.15207942],\n",
              "       [ 3.83502883,  9.00940876],\n",
              "       [ 8.52225541,  2.07436062],\n",
              "       [ 8.26827564,  2.47078827],\n",
              "       [ 3.81603864, 11.07256391],\n",
              "       [ 6.49861228,  9.98923315],\n",
              "       [ 3.58542397,  9.19161513],\n",
              "       [ 6.08596313, 10.04060336],\n",
              "       [ 3.89785137,  9.18125094]])"
            ]
          },
          "metadata": {},
          "execution_count": 73
        }
      ]
    },
    {
      "cell_type": "code",
      "source": [],
      "metadata": {
        "id": "uHXZra_P1wF8"
      },
      "execution_count": 73,
      "outputs": []
    },
    {
      "cell_type": "code",
      "source": [
        "n_clusters = 3"
      ],
      "metadata": {
        "id": "PAxB34a60r_b"
      },
      "execution_count": 74,
      "outputs": []
    },
    {
      "cell_type": "code",
      "source": [
        "d = np.zeros((X.shape[0], n_clusters))"
      ],
      "metadata": {
        "id": "3p3LYn2V0oAt"
      },
      "execution_count": 75,
      "outputs": []
    },
    {
      "cell_type": "code",
      "source": [
        "centroids = np.zeros((X.shape[0]))"
      ],
      "metadata": {
        "id": "ms5XIsBb0vCX"
      },
      "execution_count": 76,
      "outputs": []
    },
    {
      "cell_type": "code",
      "source": [
        "X"
      ],
      "metadata": {
        "colab": {
          "base_uri": "https://localhost:8080/"
        },
        "id": "AOtTvbltzj6A",
        "outputId": "2fd1e935-8e8b-4e53-daec-03ad797174eb"
      },
      "execution_count": 27,
      "outputs": [
        {
          "output_type": "execute_result",
          "data": {
            "text/plain": [
              "array([[ 1,  2],\n",
              "       [ 1,  4],\n",
              "       [ 1,  0],\n",
              "       [10,  2],\n",
              "       [10,  4],\n",
              "       [10,  0]])"
            ]
          },
          "metadata": {},
          "execution_count": 27
        }
      ]
    },
    {
      "cell_type": "code",
      "source": [
        "X - np.array([0, 1])"
      ],
      "metadata": {
        "colab": {
          "base_uri": "https://localhost:8080/"
        },
        "id": "o-2_isp-ykLY",
        "outputId": "c52e8bd6-47a7-4d08-8d2c-c628335b8b91"
      },
      "execution_count": 28,
      "outputs": [
        {
          "output_type": "execute_result",
          "data": {
            "text/plain": [
              "array([[ 1,  1],\n",
              "       [ 1,  3],\n",
              "       [ 1, -1],\n",
              "       [10,  1],\n",
              "       [10,  3],\n",
              "       [10, -1]])"
            ]
          },
          "metadata": {},
          "execution_count": 28
        }
      ]
    },
    {
      "cell_type": "code",
      "source": [],
      "metadata": {
        "id": "V8pwtknzyklM"
      },
      "execution_count": null,
      "outputs": []
    },
    {
      "cell_type": "code",
      "source": [],
      "metadata": {
        "id": "7ywIyrLLykvP"
      },
      "execution_count": null,
      "outputs": []
    },
    {
      "cell_type": "code",
      "source": [],
      "metadata": {
        "id": "1Wc8Sb6Uyi4D"
      },
      "execution_count": null,
      "outputs": []
    },
    {
      "cell_type": "markdown",
      "source": [],
      "metadata": {
        "id": "WA1PDaJZyiTn"
      }
    },
    {
      "cell_type": "code",
      "source": [
        "np.linalg.norm(X, axis=0)"
      ],
      "metadata": {
        "colab": {
          "base_uri": "https://localhost:8080/"
        },
        "id": "FCULmK0jwanI",
        "outputId": "c428ca6e-8dd3-4d1a-abb6-51a725d1e8d3"
      },
      "execution_count": 19,
      "outputs": [
        {
          "output_type": "execute_result",
          "data": {
            "text/plain": [
              "array([17.40689519,  6.32455532])"
            ]
          },
          "metadata": {},
          "execution_count": 19
        }
      ]
    },
    {
      "cell_type": "code",
      "source": [
        "np.linalg.norm(X, axis=-1)"
      ],
      "metadata": {
        "colab": {
          "base_uri": "https://localhost:8080/"
        },
        "id": "Y6hPk9PXweDv",
        "outputId": "82c06181-a2d9-4e6d-f96d-ccc9a070165c"
      },
      "execution_count": 20,
      "outputs": [
        {
          "output_type": "execute_result",
          "data": {
            "text/plain": [
              "array([ 2.23606798,  4.12310563,  1.        , 10.19803903, 10.77032961,\n",
              "       10.        ])"
            ]
          },
          "metadata": {},
          "execution_count": 20
        }
      ]
    },
    {
      "cell_type": "code",
      "source": [
        "np.linalg.norm([1, 2])"
      ],
      "metadata": {
        "colab": {
          "base_uri": "https://localhost:8080/"
        },
        "id": "4YvpAelswUMs",
        "outputId": "45228585-6265-4b4b-c813-a4af6ec30fb5"
      },
      "execution_count": 18,
      "outputs": [
        {
          "output_type": "execute_result",
          "data": {
            "text/plain": [
              "2.23606797749979"
            ]
          },
          "metadata": {},
          "execution_count": 18
        }
      ]
    },
    {
      "cell_type": "code",
      "source": [
        "indices = np.random.permutation(X.shape[0])[:3]\n",
        "X[indices]"
      ],
      "metadata": {
        "colab": {
          "base_uri": "https://localhost:8080/"
        },
        "id": "z2ZcOA-AXtYf",
        "outputId": "b63ffbdd-1461-42e7-a9d6-a2e86327199d"
      },
      "execution_count": null,
      "outputs": [
        {
          "output_type": "execute_result",
          "data": {
            "text/plain": [
              "array([[-6.15567947,  6.34747374],\n",
              "       [ 1.54051699, 11.07247095],\n",
              "       [ 2.79473606,  9.54914352]])"
            ]
          },
          "metadata": {},
          "execution_count": 13
        }
      ]
    },
    {
      "cell_type": "code",
      "source": [
        "n_clusters = 3\n",
        "centroids = np.zeros([n_clusters, X.shape[1]])"
      ],
      "metadata": {
        "id": "KP7uwVngYE_E"
      },
      "execution_count": null,
      "outputs": []
    },
    {
      "cell_type": "code",
      "source": [
        "centroids = np.zeros([n_clusters, X.shape[1]])\n",
        "for i in range(n_clusters):\n",
        "    centroids[i, :] = np.mean(X[y==i,:])"
      ],
      "metadata": {
        "id": "84XxxHmhMbiF"
      },
      "execution_count": null,
      "outputs": []
    },
    {
      "cell_type": "code",
      "source": [
        "centroids"
      ],
      "metadata": {
        "colab": {
          "base_uri": "https://localhost:8080/"
        },
        "id": "QOcTNYKqa9zZ",
        "outputId": "793cd963-1527-4037-fb33-d5fb812ff599"
      },
      "execution_count": null,
      "outputs": [
        {
          "output_type": "execute_result",
          "data": {
            "text/plain": [
              "array([[ 5.79586995,  5.79586995],\n",
              "       [ 0.98315303,  0.98315303],\n",
              "       [-2.39656233, -2.39656233]])"
            ]
          },
          "metadata": {},
          "execution_count": 18
        }
      ]
    },
    {
      "cell_type": "code",
      "source": [
        "for k in range(3):\n",
        "    row_norm = np.linalg.norm(X - centroids[k,:], axis = 1)"
      ],
      "metadata": {
        "id": "dEimg3Q-a-s3"
      },
      "execution_count": null,
      "outputs": []
    },
    {
      "cell_type": "code",
      "source": [
        "centroids[k,:]"
      ],
      "metadata": {
        "colab": {
          "base_uri": "https://localhost:8080/"
        },
        "id": "ik2UWShVMSkJ",
        "outputId": "31ec5667-6e1c-4373-afe0-12ec1fa0b407"
      },
      "execution_count": null,
      "outputs": [
        {
          "output_type": "execute_result",
          "data": {
            "text/plain": [
              "array([0., 0.])"
            ]
          },
          "metadata": {},
          "execution_count": 10
        }
      ]
    },
    {
      "cell_type": "code",
      "source": [
        "X - centroids[k,:]"
      ],
      "metadata": {
        "colab": {
          "base_uri": "https://localhost:8080/"
        },
        "id": "4aNovsYnMLKF",
        "outputId": "517866c1-aff5-4519-caf4-0472bfb35c80"
      },
      "execution_count": null,
      "outputs": [
        {
          "output_type": "execute_result",
          "data": {
            "text/plain": [
              "array([[ 1.20332391, -7.79000064],\n",
              "       [-4.59152584, -1.25603297],\n",
              "       [-1.18352557,  1.61185612],\n",
              "       [-2.0702635 ,  0.85061488],\n",
              "       [-6.2392547 , -2.36277651],\n",
              "       [-1.10316914,  1.40987289],\n",
              "       [-6.18760376, -0.51220793],\n",
              "       [-5.8397628 , -2.11773283],\n",
              "       [ 3.21787204, -8.42143222],\n",
              "       [ 2.55957135, -8.49931821]])"
            ]
          },
          "metadata": {},
          "execution_count": 9
        }
      ]
    },
    {
      "cell_type": "code",
      "source": [
        "centroids"
      ],
      "metadata": {
        "colab": {
          "base_uri": "https://localhost:8080/"
        },
        "id": "cazWiUXubZLM",
        "outputId": "03b3544f-8c59-438b-9845-afdce0e4c9ca"
      },
      "execution_count": null,
      "outputs": [
        {
          "output_type": "execute_result",
          "data": {
            "text/plain": [
              "array([[0., 0.],\n",
              "       [0., 0.],\n",
              "       [0., 0.]])"
            ]
          },
          "metadata": {},
          "execution_count": 20
        }
      ]
    },
    {
      "cell_type": "code",
      "source": [
        "centroids[1,:]"
      ],
      "metadata": {
        "colab": {
          "base_uri": "https://localhost:8080/"
        },
        "id": "95f4EgK7bZXh",
        "outputId": "70d087f8-683e-4dd7-9aad-4cce57966258"
      },
      "execution_count": null,
      "outputs": [
        {
          "output_type": "execute_result",
          "data": {
            "text/plain": [
              "array([0., 0.])"
            ]
          },
          "metadata": {},
          "execution_count": 21
        }
      ]
    },
    {
      "cell_type": "code",
      "source": [
        "np.mean(X[y == 1] - centroids[1])"
      ],
      "metadata": {
        "colab": {
          "base_uri": "https://localhost:8080/"
        },
        "id": "-JPDqELrb263",
        "outputId": "1a19ddce-e95c-4830-e18c-92d76c35bc95"
      },
      "execution_count": null,
      "outputs": [
        {
          "output_type": "execute_result",
          "data": {
            "text/plain": [
              "-1.681179242137522"
            ]
          },
          "metadata": {},
          "execution_count": 31
        }
      ]
    },
    {
      "cell_type": "code",
      "source": [],
      "metadata": {
        "id": "GSm0QIYsdVAg"
      },
      "execution_count": null,
      "outputs": []
    },
    {
      "cell_type": "code",
      "source": [
        "centroids = np.zeros([n_clusters, X.shape[1]])\n",
        "for i in range(n_clusters):\n",
        "    centroids[i, :] = np.mean(X[y==i,:])"
      ],
      "metadata": {
        "id": "aDNvAdrReD7I"
      },
      "execution_count": null,
      "outputs": []
    },
    {
      "cell_type": "code",
      "source": [
        "distances = np.zeros([X.shape[0], n_clusters])\n",
        "distances"
      ],
      "metadata": {
        "colab": {
          "base_uri": "https://localhost:8080/"
        },
        "id": "hgo6tH07e69B",
        "outputId": "d65d24f2-f45f-4b0a-cc41-07dab85bd658"
      },
      "execution_count": null,
      "outputs": [
        {
          "output_type": "execute_result",
          "data": {
            "text/plain": [
              "array([[0., 0., 0.],\n",
              "       [0., 0., 0.],\n",
              "       [0., 0., 0.],\n",
              "       [0., 0., 0.],\n",
              "       [0., 0., 0.],\n",
              "       [0., 0., 0.],\n",
              "       [0., 0., 0.],\n",
              "       [0., 0., 0.],\n",
              "       [0., 0., 0.],\n",
              "       [0., 0., 0.]])"
            ]
          },
          "metadata": {},
          "execution_count": 42
        }
      ]
    },
    {
      "cell_type": "code",
      "source": [
        "for i in range(n_clusters):\n",
        "    row_norm = np.linalg.norm(X-centroids[i, :], axis=1)\n",
        "    print(row_norm)\n",
        "    distances[:, i] = np.square(row_norm)"
      ],
      "metadata": {
        "colab": {
          "base_uri": "https://localhost:8080/"
        },
        "id": "fc0bsgxQeOiU",
        "outputId": "c1b6a1a6-911b-4b08-f2e2-8446433fcc34"
      },
      "execution_count": null,
      "outputs": [
        {
          "output_type": "stream",
          "name": "stdout",
          "text": [
            "[4.86626359 6.09534653 5.7713897  3.12791481 6.38040577 3.73175087\n",
            " 4.8936788  2.83744157 2.90422091 4.86187287]\n",
            "[4.65893471 6.06235781 5.7580809  3.08627434 6.21231399 3.76089245\n",
            " 4.79850669 2.80205649 2.90075223 4.95302046]\n",
            "[3.2820453  6.43996045 6.35134411 3.95746636 5.12324541 5.00266682\n",
            " 4.74978976 3.81797369 4.11393754 6.49165994]\n"
          ]
        }
      ]
    },
    {
      "cell_type": "code",
      "source": [
        "X-centroids[i, :]"
      ],
      "metadata": {
        "colab": {
          "base_uri": "https://localhost:8080/"
        },
        "id": "O2mU0Ot-goys",
        "outputId": "8a2b2837-7c88-49f6-be23-77113bc04bb6"
      },
      "execution_count": null,
      "outputs": [
        {
          "output_type": "execute_result",
          "data": {
            "text/plain": [
              "array([[ 2.66894769, -1.91011507],\n",
              "       [-5.85584277,  2.67996195],\n",
              "       [-5.96803287,  2.17305214],\n",
              "       [ 0.40501895, -3.93668637],\n",
              "       [ 4.13642169, -3.02285612],\n",
              "       [ 0.27081232, -4.99533142],\n",
              "       [ 2.28929042, -4.16168861],\n",
              "       [ 0.13585938, -3.8155557 ],\n",
              "       [-4.11391248, -0.01435964],\n",
              "       [-6.4912157 ,  0.07594429]])"
            ]
          },
          "metadata": {},
          "execution_count": 48
        }
      ]
    },
    {
      "cell_type": "code",
      "source": [
        "distances"
      ],
      "metadata": {
        "colab": {
          "base_uri": "https://localhost:8080/"
        },
        "id": "gZzrx1xYePEG",
        "outputId": "25bc40f8-923d-4f98-9192-1091c78d2376"
      },
      "execution_count": null,
      "outputs": [
        {
          "output_type": "execute_result",
          "data": {
            "text/plain": [
              "array([[23.68052136, 21.70567261, 10.77182133],\n",
              "       [37.15324931, 36.75218227, 41.47309056],\n",
              "       [33.30893905, 33.15549567, 40.33957196],\n",
              "       [ 9.78385106,  9.52508929, 15.66153997],\n",
              "       [40.70957773, 38.59284514, 26.24764357],\n",
              "       [13.92596454, 14.14431202, 25.02667535],\n",
              "       [23.94809215, 23.02566641, 22.56050273],\n",
              "       [ 8.05107466,  7.85152056, 14.57692309],\n",
              "       [ 8.43449908,  8.41436347, 16.92448205],\n",
              "       [23.63780781, 24.53241167, 42.14164882]])"
            ]
          },
          "metadata": {},
          "execution_count": 47
        }
      ]
    },
    {
      "cell_type": "code",
      "source": [],
      "metadata": {
        "id": "JYypw-GkfT6g"
      },
      "execution_count": null,
      "outputs": []
    }
  ]
}